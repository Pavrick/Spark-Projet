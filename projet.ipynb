{
 "cells": [
  {
   "cell_type": "markdown",
   "metadata": {},
   "source": [
    "                                                                            Test Spark PMN\n",
    "\n",
    "Sujet\n",
    "Vous travaillez pour l’entreprise Data’s Madness, spécialisée dans le data engineering. Un\n",
    "nouveau client vient d’arriver et on vous demande de vous occuper de lui. Il s’agit de\n",
    "l’entreprise movieMax, spécialisée dans la vente de films sur internet, qui possède des\n",
    "données mais qui ne sait pas comment les traiter. Votre rôle est de développer un job spark\n",
    "permettant de répondre à leurs problématiques.\n",
    "\n",
    "Ils souhaiteraient avoir un reporting sur la vente de leurs produits."
   ]
  },
  {
   "cell_type": "code",
   "execution_count": 10,
   "metadata": {},
   "outputs": [],
   "source": [
    "import pyspark\n",
    "from pyspark.sql import SparkSession\n"
   ]
  },
  {
   "cell_type": "code",
   "execution_count": 2,
   "metadata": {},
   "outputs": [],
   "source": [
    "spark = SparkSession.builder \\\n",
    "    .appName(\"TEST_SPARK_PMN\") \\\n",
    "    .master(\"local[*]\") \\\n",
    "    .getOrCreate()\n"
   ]
  },
  {
   "cell_type": "code",
   "execution_count": 3,
   "metadata": {},
   "outputs": [],
   "source": [
    "spark = SparkSession.builder \\\n",
    "    .appName(\"TEST_SPARK_PMN\") \\\n",
    "    .master(\"local[*]\") \\\n",
    "    .getOrCreate()\n"
   ]
  },
  {
   "cell_type": "markdown",
   "metadata": {},
   "source": [
    "créer un dataframe à partir du fichier csv"
   ]
  },
  {
   "cell_type": "code",
   "execution_count": 4,
   "metadata": {},
   "outputs": [
    {
     "name": "stdout",
     "output_type": "stream",
     "text": [
      "+----+------+--------------------------------------+-------+-----------------------+-------------------+------------------------+----------+------+-------------------+\n",
      "|Year|Length|Title                                 |Subject|Actor                  |Actress            |Director                |Popularity|Awards|*Image             |\n",
      "+----+------+--------------------------------------+-------+-----------------------+-------------------+------------------------+----------+------+-------------------+\n",
      "|INT |INT   |STRING                                |CAT    |CAT                    |CAT                |CAT                     |INT       |BOOL  |STRING             |\n",
      "|1990|111   |Tie Me Up! Tie Me Down!               |Comedy |Banderas, Antonio      |Abril, Victoria    |Almod�var, Pedro        |68        |No    |NicholasCage.png   |\n",
      "|1991|113   |High Heels                            |Comedy |Bos�, Miguel           |Abril, Victoria    |Almod�var, Pedro        |68        |No    |NicholasCage.png   |\n",
      "|1983|104   |Dead Zone, The                        |Horror |Walken, Christopher    |Adams, Brooke      |Cronenberg, David       |79        |No    |NicholasCage.png   |\n",
      "|1979|122   |Cuba                                  |Action |Connery, Sean          |Adams, Brooke      |Lester, Richard         |6         |No    |seanConnery.png    |\n",
      "|1978|94    |Days of Heaven                        |Drama  |Gere, Richard          |Adams, Brooke      |Malick, Terrence        |14        |No    |NicholasCage.png   |\n",
      "|1983|140   |Octopussy                             |Action |Moore, Roger           |Adams, Maud        |Glen, John              |68        |No    |NicholasCage.png   |\n",
      "|1984|101   |Target Eagle                          |Action |Connors, Chuck         |Adams, Maud        |Loma, Jos� Antonio de la|14        |No    |NicholasCage.png   |\n",
      "|1989|99    |American Angels: Baptism of Blood, The|Drama  |Bergen, Robert D.      |Adams, Trudy       |Sebastian, Beverly      |28        |No    |NicholasCage.png   |\n",
      "|1985|104   |Subway                                |Drama  |Lambert, Christopher   |Adjani, Isabelle   |Besson, Luc             |6         |No    |NicholasCage.png   |\n",
      "|1990|149   |Camille Claudel                       |Drama  |Depardieu, G�rard      |Adjani, Isabelle   |Nuytten, Bruno          |32        |No    |NicholasCage.png   |\n",
      "|1982|188   |Fanny and Alexander                   |Drama  |Ahlstedt, B�rje        |Adolphson, Kristina|Bergman, Ingmar         |81        |Yes   |Bergman.png        |\n",
      "|1982|117   |Tragedy of a Ridiculous Man           |Drama  |Tognazzi, Ugo          |Aimee, Anouk       |Bertolucci, Bernardo    |17        |No    |NicholasCage.png   |\n",
      "|1966|103   |A Man & a Woman                       |Drama  |Trintignant, Jean-Louis|Aimee, Anouk       |Lelouch, Claude         |46        |Yes   |NicholasCage.png   |\n",
      "|1986|112   |A Man & a Woman: Twenty Years Later   |Drama  |Trintignant, Jean-Louis|Aimee, Anouk       |Lelouch, Claude         |49        |No    |NicholasCage.png   |\n",
      "|1966|103   |Un Hombre y una Mujer                 |Drama  |Trintignant, Jean-Louis|Aimee, Anouk       |Lelouch, Claude         |6         |Yes   |NicholasCage.png   |\n",
      "|1985|112   |Official Story, The                   |Drama  |Alterio, Hector        |Aleandro, Norma    |Puenzo, Luiz            |39        |Yes   |NicholasCage.png   |\n",
      "|1976|150   |Lindbergh Kidnapping Case, The        |Drama  |Hopkins, Anthony       |Alexander, Denise  |Kulik, Buzz             |51        |No    |AnthonyHopkins.png |\n",
      "|1929|84    |Blackmail                             |Mystery|Longden, John          |Algood, Sara       |Hitchcock, Alfred       |2         |No    |alfredHitchcock.png|\n",
      "|1963|109   |Donovan's Reef                        |Comedy |Wayne, John            |Allen, Elizabeth   |Ford, John              |62        |No    |johnWayne.png      |\n",
      "+----+------+--------------------------------------+-------+-----------------------+-------------------+------------------------+----------+------+-------------------+\n",
      "only showing top 20 rows\n",
      "\n"
     ]
    }
   ],
   "source": [
    "film_df = spark.read.option(\"delimiter\", \";\").csv(\"data/film.csv\", header=True, inferSchema=True)\n",
    "\n",
    "film_df.show(truncate=False)"
   ]
  },
  {
   "cell_type": "markdown",
   "metadata": {},
   "source": [
    "supprimer la column image"
   ]
  },
  {
   "cell_type": "code",
   "execution_count": 5,
   "metadata": {},
   "outputs": [
    {
     "name": "stdout",
     "output_type": "stream",
     "text": [
      "+----+------+--------------------------------------+-------+-----------------------+-------------------+------------------------+----------+------+\n",
      "|Year|Length|Title                                 |Subject|Actor                  |Actress            |Director                |Popularity|Awards|\n",
      "+----+------+--------------------------------------+-------+-----------------------+-------------------+------------------------+----------+------+\n",
      "|INT |INT   |STRING                                |CAT    |CAT                    |CAT                |CAT                     |INT       |BOOL  |\n",
      "|1990|111   |Tie Me Up! Tie Me Down!               |Comedy |Banderas, Antonio      |Abril, Victoria    |Almod�var, Pedro        |68        |No    |\n",
      "|1991|113   |High Heels                            |Comedy |Bos�, Miguel           |Abril, Victoria    |Almod�var, Pedro        |68        |No    |\n",
      "|1983|104   |Dead Zone, The                        |Horror |Walken, Christopher    |Adams, Brooke      |Cronenberg, David       |79        |No    |\n",
      "|1979|122   |Cuba                                  |Action |Connery, Sean          |Adams, Brooke      |Lester, Richard         |6         |No    |\n",
      "|1978|94    |Days of Heaven                        |Drama  |Gere, Richard          |Adams, Brooke      |Malick, Terrence        |14        |No    |\n",
      "|1983|140   |Octopussy                             |Action |Moore, Roger           |Adams, Maud        |Glen, John              |68        |No    |\n",
      "|1984|101   |Target Eagle                          |Action |Connors, Chuck         |Adams, Maud        |Loma, Jos� Antonio de la|14        |No    |\n",
      "|1989|99    |American Angels: Baptism of Blood, The|Drama  |Bergen, Robert D.      |Adams, Trudy       |Sebastian, Beverly      |28        |No    |\n",
      "|1985|104   |Subway                                |Drama  |Lambert, Christopher   |Adjani, Isabelle   |Besson, Luc             |6         |No    |\n",
      "|1990|149   |Camille Claudel                       |Drama  |Depardieu, G�rard      |Adjani, Isabelle   |Nuytten, Bruno          |32        |No    |\n",
      "|1982|188   |Fanny and Alexander                   |Drama  |Ahlstedt, B�rje        |Adolphson, Kristina|Bergman, Ingmar         |81        |Yes   |\n",
      "|1982|117   |Tragedy of a Ridiculous Man           |Drama  |Tognazzi, Ugo          |Aimee, Anouk       |Bertolucci, Bernardo    |17        |No    |\n",
      "|1966|103   |A Man & a Woman                       |Drama  |Trintignant, Jean-Louis|Aimee, Anouk       |Lelouch, Claude         |46        |Yes   |\n",
      "|1986|112   |A Man & a Woman: Twenty Years Later   |Drama  |Trintignant, Jean-Louis|Aimee, Anouk       |Lelouch, Claude         |49        |No    |\n",
      "|1966|103   |Un Hombre y una Mujer                 |Drama  |Trintignant, Jean-Louis|Aimee, Anouk       |Lelouch, Claude         |6         |Yes   |\n",
      "|1985|112   |Official Story, The                   |Drama  |Alterio, Hector        |Aleandro, Norma    |Puenzo, Luiz            |39        |Yes   |\n",
      "|1976|150   |Lindbergh Kidnapping Case, The        |Drama  |Hopkins, Anthony       |Alexander, Denise  |Kulik, Buzz             |51        |No    |\n",
      "|1929|84    |Blackmail                             |Mystery|Longden, John          |Algood, Sara       |Hitchcock, Alfred       |2         |No    |\n",
      "|1963|109   |Donovan's Reef                        |Comedy |Wayne, John            |Allen, Elizabeth   |Ford, John              |62        |No    |\n",
      "+----+------+--------------------------------------+-------+-----------------------+-------------------+------------------------+----------+------+\n",
      "only showing top 20 rows\n",
      "\n"
     ]
    }
   ],
   "source": [
    "df_cleaned = film_df.drop(\"*Image\")\n",
    "df_cleaned.show(truncate=False)"
   ]
  },
  {
   "cell_type": "markdown",
   "metadata": {},
   "source": [
    "supprimer la ligne des types"
   ]
  },
  {
   "cell_type": "code",
   "execution_count": 6,
   "metadata": {},
   "outputs": [
    {
     "name": "stdout",
     "output_type": "stream",
     "text": [
      "+----+------+--------------------------------------+-------+-----------------------+-------------------+------------------------+----------+------+\n",
      "|Year|Length|Title                                 |Subject|Actor                  |Actress            |Director                |Popularity|Awards|\n",
      "+----+------+--------------------------------------+-------+-----------------------+-------------------+------------------------+----------+------+\n",
      "|1990|111   |Tie Me Up! Tie Me Down!               |Comedy |Banderas, Antonio      |Abril, Victoria    |Almod�var, Pedro        |68        |No    |\n",
      "|1991|113   |High Heels                            |Comedy |Bos�, Miguel           |Abril, Victoria    |Almod�var, Pedro        |68        |No    |\n",
      "|1983|104   |Dead Zone, The                        |Horror |Walken, Christopher    |Adams, Brooke      |Cronenberg, David       |79        |No    |\n",
      "|1979|122   |Cuba                                  |Action |Connery, Sean          |Adams, Brooke      |Lester, Richard         |6         |No    |\n",
      "|1978|94    |Days of Heaven                        |Drama  |Gere, Richard          |Adams, Brooke      |Malick, Terrence        |14        |No    |\n",
      "|1983|140   |Octopussy                             |Action |Moore, Roger           |Adams, Maud        |Glen, John              |68        |No    |\n",
      "|1984|101   |Target Eagle                          |Action |Connors, Chuck         |Adams, Maud        |Loma, Jos� Antonio de la|14        |No    |\n",
      "|1989|99    |American Angels: Baptism of Blood, The|Drama  |Bergen, Robert D.      |Adams, Trudy       |Sebastian, Beverly      |28        |No    |\n",
      "|1985|104   |Subway                                |Drama  |Lambert, Christopher   |Adjani, Isabelle   |Besson, Luc             |6         |No    |\n",
      "|1990|149   |Camille Claudel                       |Drama  |Depardieu, G�rard      |Adjani, Isabelle   |Nuytten, Bruno          |32        |No    |\n",
      "|1982|188   |Fanny and Alexander                   |Drama  |Ahlstedt, B�rje        |Adolphson, Kristina|Bergman, Ingmar         |81        |Yes   |\n",
      "|1982|117   |Tragedy of a Ridiculous Man           |Drama  |Tognazzi, Ugo          |Aimee, Anouk       |Bertolucci, Bernardo    |17        |No    |\n",
      "|1966|103   |A Man & a Woman                       |Drama  |Trintignant, Jean-Louis|Aimee, Anouk       |Lelouch, Claude         |46        |Yes   |\n",
      "|1986|112   |A Man & a Woman: Twenty Years Later   |Drama  |Trintignant, Jean-Louis|Aimee, Anouk       |Lelouch, Claude         |49        |No    |\n",
      "|1966|103   |Un Hombre y una Mujer                 |Drama  |Trintignant, Jean-Louis|Aimee, Anouk       |Lelouch, Claude         |6         |Yes   |\n",
      "|1985|112   |Official Story, The                   |Drama  |Alterio, Hector        |Aleandro, Norma    |Puenzo, Luiz            |39        |Yes   |\n",
      "|1976|150   |Lindbergh Kidnapping Case, The        |Drama  |Hopkins, Anthony       |Alexander, Denise  |Kulik, Buzz             |51        |No    |\n",
      "|1929|84    |Blackmail                             |Mystery|Longden, John          |Algood, Sara       |Hitchcock, Alfred       |2         |No    |\n",
      "|1963|109   |Donovan's Reef                        |Comedy |Wayne, John            |Allen, Elizabeth   |Ford, John              |62        |No    |\n",
      "|1988|110   |Tucker: The Man & His Dream           |Drama  |Bridges, Jeff          |Allen, Joan        |Coppola, Francis Ford   |68        |No    |\n",
      "+----+------+--------------------------------------+-------+-----------------------+-------------------+------------------------+----------+------+\n",
      "only showing top 20 rows\n",
      "\n"
     ]
    }
   ],
   "source": [
    "film_df_filted= df_cleaned.filter(df_cleaned[\"Year\"].cast(\"string\") != \"INT\")\n",
    "film_df_filted.show(truncate=False)"
   ]
  },
  {
   "cell_type": "markdown",
   "metadata": {},
   "source": [
    "- créer une nouvelle column “Credits” qui prend comme valeur :\n",
    "“[title] : a [Actor] and [actress] film’s, directed by [Director]”"
   ]
  },
  {
   "cell_type": "code",
   "execution_count": 7,
   "metadata": {},
   "outputs": [
    {
     "name": "stdout",
     "output_type": "stream",
     "text": [
      "+----+------+--------------------------------------+-------+-----------------------+-------------------+------------------------+----------+------+--------------------------------------------------------------------------------------------------------------------+\n",
      "|Year|Length|Title                                 |Subject|Actor                  |Actress            |Director                |Popularity|Awards|Credits                                                                                                             |\n",
      "+----+------+--------------------------------------+-------+-----------------------+-------------------+------------------------+----------+------+--------------------------------------------------------------------------------------------------------------------+\n",
      "|1990|111   |Tie Me Up! Tie Me Down!               |Comedy |Banderas, Antonio      |Abril, Victoria    |Almod�var, Pedro        |68        |No    |Tie Me Up! Tie Me Down! : a Banderas, Antonio and Abril, Victoria film's, directed by Almod�var, Pedro              |\n",
      "|1991|113   |High Heels                            |Comedy |Bos�, Miguel           |Abril, Victoria    |Almod�var, Pedro        |68        |No    |High Heels : a Bos�, Miguel and Abril, Victoria film's, directed by Almod�var, Pedro                                |\n",
      "|1983|104   |Dead Zone, The                        |Horror |Walken, Christopher    |Adams, Brooke      |Cronenberg, David       |79        |No    |Dead Zone, The : a Walken, Christopher and Adams, Brooke film's, directed by Cronenberg, David                      |\n",
      "|1979|122   |Cuba                                  |Action |Connery, Sean          |Adams, Brooke      |Lester, Richard         |6         |No    |Cuba : a Connery, Sean and Adams, Brooke film's, directed by Lester, Richard                                        |\n",
      "|1978|94    |Days of Heaven                        |Drama  |Gere, Richard          |Adams, Brooke      |Malick, Terrence        |14        |No    |Days of Heaven : a Gere, Richard and Adams, Brooke film's, directed by Malick, Terrence                             |\n",
      "|1983|140   |Octopussy                             |Action |Moore, Roger           |Adams, Maud        |Glen, John              |68        |No    |Octopussy : a Moore, Roger and Adams, Maud film's, directed by Glen, John                                           |\n",
      "|1984|101   |Target Eagle                          |Action |Connors, Chuck         |Adams, Maud        |Loma, Jos� Antonio de la|14        |No    |Target Eagle : a Connors, Chuck and Adams, Maud film's, directed by Loma, Jos� Antonio de la                        |\n",
      "|1989|99    |American Angels: Baptism of Blood, The|Drama  |Bergen, Robert D.      |Adams, Trudy       |Sebastian, Beverly      |28        |No    |American Angels: Baptism of Blood, The : a Bergen, Robert D. and Adams, Trudy film's, directed by Sebastian, Beverly|\n",
      "|1985|104   |Subway                                |Drama  |Lambert, Christopher   |Adjani, Isabelle   |Besson, Luc             |6         |No    |Subway : a Lambert, Christopher and Adjani, Isabelle film's, directed by Besson, Luc                                |\n",
      "|1990|149   |Camille Claudel                       |Drama  |Depardieu, G�rard      |Adjani, Isabelle   |Nuytten, Bruno          |32        |No    |Camille Claudel : a Depardieu, G�rard and Adjani, Isabelle film's, directed by Nuytten, Bruno                       |\n",
      "|1982|188   |Fanny and Alexander                   |Drama  |Ahlstedt, B�rje        |Adolphson, Kristina|Bergman, Ingmar         |81        |Yes   |Fanny and Alexander : a Ahlstedt, B�rje and Adolphson, Kristina film's, directed by Bergman, Ingmar                 |\n",
      "|1982|117   |Tragedy of a Ridiculous Man           |Drama  |Tognazzi, Ugo          |Aimee, Anouk       |Bertolucci, Bernardo    |17        |No    |Tragedy of a Ridiculous Man : a Tognazzi, Ugo and Aimee, Anouk film's, directed by Bertolucci, Bernardo             |\n",
      "|1966|103   |A Man & a Woman                       |Drama  |Trintignant, Jean-Louis|Aimee, Anouk       |Lelouch, Claude         |46        |Yes   |A Man & a Woman : a Trintignant, Jean-Louis and Aimee, Anouk film's, directed by Lelouch, Claude                    |\n",
      "|1986|112   |A Man & a Woman: Twenty Years Later   |Drama  |Trintignant, Jean-Louis|Aimee, Anouk       |Lelouch, Claude         |49        |No    |A Man & a Woman: Twenty Years Later : a Trintignant, Jean-Louis and Aimee, Anouk film's, directed by Lelouch, Claude|\n",
      "|1966|103   |Un Hombre y una Mujer                 |Drama  |Trintignant, Jean-Louis|Aimee, Anouk       |Lelouch, Claude         |6         |Yes   |Un Hombre y una Mujer : a Trintignant, Jean-Louis and Aimee, Anouk film's, directed by Lelouch, Claude              |\n",
      "|1985|112   |Official Story, The                   |Drama  |Alterio, Hector        |Aleandro, Norma    |Puenzo, Luiz            |39        |Yes   |Official Story, The : a Alterio, Hector and Aleandro, Norma film's, directed by Puenzo, Luiz                        |\n",
      "|1976|150   |Lindbergh Kidnapping Case, The        |Drama  |Hopkins, Anthony       |Alexander, Denise  |Kulik, Buzz             |51        |No    |Lindbergh Kidnapping Case, The : a Hopkins, Anthony and Alexander, Denise film's, directed by Kulik, Buzz           |\n",
      "|1929|84    |Blackmail                             |Mystery|Longden, John          |Algood, Sara       |Hitchcock, Alfred       |2         |No    |Blackmail : a Longden, John and Algood, Sara film's, directed by Hitchcock, Alfred                                  |\n",
      "|1963|109   |Donovan's Reef                        |Comedy |Wayne, John            |Allen, Elizabeth   |Ford, John              |62        |No    |Donovan's Reef : a Wayne, John and Allen, Elizabeth film's, directed by Ford, John                                  |\n",
      "|1988|110   |Tucker: The Man & His Dream           |Drama  |Bridges, Jeff          |Allen, Joan        |Coppola, Francis Ford   |68        |No    |Tucker: The Man & His Dream : a Bridges, Jeff and Allen, Joan film's, directed by Coppola, Francis Ford             |\n",
      "+----+------+--------------------------------------+-------+-----------------------+-------------------+------------------------+----------+------+--------------------------------------------------------------------------------------------------------------------+\n",
      "only showing top 20 rows\n",
      "\n"
     ]
    }
   ],
   "source": [
    "from pyspark.sql import functions as F\n",
    "df_with_credits = film_df_filted.withColumn(\n",
    "    \"Credits\",\n",
    "    F.concat(\n",
    "        F.col(\"Title\"), \n",
    "        F.lit(\" : a \"), \n",
    "        F.col(\"Actor\"), \n",
    "        F.lit(\" and \"), \n",
    "        F.col(\"Actress\"), \n",
    "        F.lit(\" film's, directed by \"), \n",
    "        F.col(\"Director\")\n",
    "    )\n",
    ")\n",
    "df_with_credits.show(truncate=False)"
   ]
  },
  {
   "cell_type": "code",
   "execution_count": 9,
   "metadata": {},
   "outputs": [
    {
     "name": "stdout",
     "output_type": "stream",
     "text": [
      "+----+------+---------------------------------------+---------------+--------------------+----------------+--------------------+----------+------+--------------------------------------------------------------------------------------------------------------+\n",
      "|Year|Length|Title                                  |Subject        |Actor               |Actress         |Director            |Popularity|Awards|Credits                                                                                                       |\n",
      "+----+------+---------------------------------------+---------------+--------------------+----------------+--------------------+----------+------+--------------------------------------------------------------------------------------------------------------+\n",
      "|1920|137   |Spiders                                |Drama          |De Vogy, Carl       |NULL            |Lang, Fritz         |29        |No    |NULL                                                                                                          |\n",
      "|1923|57    |Desert Rider                           |Western        |Hoxie, Jack         |Nelson, Evelyn  |Bradbury, Robert N. |NULL      |No    |Desert Rider : a Hoxie, Jack and Nelson, Evelyn film's, directed by Bradbury, Robert N.                       |\n",
      "|1924|110   |Siegfried, The Nibelungenlied          |Drama          |Richter, Paul       |Arnold, Gertrud |Lang, Fritz         |79        |No    |Siegfried, The Nibelungenlied : a Richter, Paul and Arnold, Gertrud film's, directed by Lang, Fritz           |\n",
      "|1924|95    |Kriemhild's Revenge, The Nibelungenlied|Drama          |Loos, Theodor       |Sch�n, Margarete|Lang, Fritz         |74        |No    |Kriemhild's Revenge, The Nibelungenlied : a Loos, Theodor and Sch�n, Margarete film's, directed by Lang, Fritz|\n",
      "|1924|123   |Gosta Berling's Saga                   |Drama          |Hanson, Lars        |NULL            |Stiller, Mauritz    |63        |No    |NULL                                                                                                          |\n",
      "|1925|125   |Joyless Street                         |Drama          |Stuart, Henry       |Garbo, Greta    |Pabst, Georg Wilhelm|73        |No    |Joyless Street : a Stuart, Henry and Garbo, Greta film's, directed by Pabst, Georg Wilhelm                    |\n",
      "|1926|126   |Don Juan                               |Action         |Barrymore, John     |Astor, Mary     |Crosland, Alan      |55        |No    |Don Juan : a Barrymore, John and Astor, Mary film's, directed by Crosland, Alan                               |\n",
      "|1926|66    |Lodger (Story of the London Fog)       |Mystery        |Chesney, Arthur     |Ault, Marie     |Hitchcock, Alfred   |76        |No    |Lodger (Story of the London Fog) : a Chesney, Arthur and Ault, Marie film's, directed by Hitchcock, Alfred    |\n",
      "|1926|109   |Flesh & the Devil, The                 |Drama          |Gilbert, John       |Garbo, Greta    |Brown, Clarence     |72        |No    |Flesh & the Devil, The : a Gilbert, John and Garbo, Greta film's, directed by Brown, Clarence                 |\n",
      "|1926|139   |Metropolis                             |Science Fiction|Abel, Alfred        |NULL            |Lang, Fritz         |49        |No    |NULL                                                                                                          |\n",
      "|1927|60    |Easy Virtue                            |Mystery        |Dyall, Franklin     |Jeans, Isabel   |Hitchcock, Alfred   |45        |No    |Easy Virtue : a Dyall, Franklin and Jeans, Isabel film's, directed by Hitchcock, Alfred                       |\n",
      "|1927|62    |Drop Kick, The                         |Drama          |Barthelmess, Richard|Kent, Barbara   |Webb, Millard       |NULL      |No    |Drop Kick, The : a Barthelmess, Richard and Kent, Barbara film's, directed by Webb, Millard                   |\n",
      "|1927|78    |My Best Girl                           |Drama          |Rogers, Charles     |Pickford, Mary  |Taylor, Sam         |31        |No    |My Best Girl : a Rogers, Charles and Pickford, Mary film's, directed by Taylor, Sam                           |\n",
      "|1928|139   |Wings                                  |War            |Rogers, Buddy       |Bow, Clara      |Wellman, William    |44        |Yes   |Wings : a Rogers, Buddy and Bow, Clara film's, directed by Wellman, William                                   |\n",
      "|1928|90    |Woman of Affairs                       |Drama          |Gilbert, John       |Garbo, Greta    |Brown, Clarence     |83        |No    |Woman of Affairs : a Gilbert, John and Garbo, Greta film's, directed by Brown, Clarence                       |\n",
      "|1928|96    |Mysterious Lady, The                   |Drama          |Nagel, Conrad       |Garbo, Greta    |Niblo, Fred         |72        |No    |Mysterious Lady, The : a Nagel, Conrad and Garbo, Greta film's, directed by Niblo, Fred                       |\n",
      "|1928|148   |Tempest                                |Drama          |Barrymore, John     |Horn, Camilla   |Taylor, Sam         |33        |No    |Tempest : a Barrymore, John and Horn, Camilla film's, directed by Taylor, Sam                                 |\n",
      "|1928|130   |Spies                                  |Drama          |Klein-Rogge, Rudolf |NULL            |Lang, Fritz         |49        |No    |NULL                                                                                                          |\n",
      "|1929|84    |Blackmail                              |Mystery        |Longden, John       |Algood, Sara    |Hitchcock, Alfred   |2         |No    |Blackmail : a Longden, John and Algood, Sara film's, directed by Hitchcock, Alfred                            |\n",
      "|1929|100   |Wild Orchids                           |Drama          |Stone, Lewis        |Garbo, Greta    |Franklin, Sidney    |70        |No    |Wild Orchids : a Stone, Lewis and Garbo, Greta film's, directed by Franklin, Sidney                           |\n",
      "+----+------+---------------------------------------+---------------+--------------------+----------------+--------------------+----------+------+--------------------------------------------------------------------------------------------------------------+\n",
      "only showing top 20 rows\n",
      "\n"
     ]
    }
   ],
   "source": [
    "film_df_sorted = df_with_credits.orderBy(\"Year\", ascending=True)\n",
    "film_df_sorted.show(truncate=False)\n",
    "#film_df_sorted.write.parquet(\"data/film_df_sorted.parquet\")"
   ]
  },
  {
   "cell_type": "markdown",
   "metadata": {},
   "source": [
    "trier les films du plus anciens au plus récents"
   ]
  },
  {
   "cell_type": "code",
   "execution_count": 11,
   "metadata": {},
   "outputs": [
    {
     "name": "stdout",
     "output_type": "stream",
     "text": [
      "+----+------+---------------------------------------+---------------+--------------------+----------------+--------------------+----------+------+--------------------------------------------------------------------------------------------------------------+\n",
      "|Year|Length|Title                                  |Subject        |Actor               |Actress         |Director            |Popularity|Awards|Credits                                                                                                       |\n",
      "+----+------+---------------------------------------+---------------+--------------------+----------------+--------------------+----------+------+--------------------------------------------------------------------------------------------------------------+\n",
      "|1920|137   |Spiders                                |Drama          |De Vogy, Carl       |NULL            |Lang, Fritz         |29        |No    |NULL                                                                                                          |\n",
      "|1923|57    |Desert Rider                           |Western        |Hoxie, Jack         |Nelson, Evelyn  |Bradbury, Robert N. |NULL      |No    |Desert Rider : a Hoxie, Jack and Nelson, Evelyn film's, directed by Bradbury, Robert N.                       |\n",
      "|1924|110   |Siegfried, The Nibelungenlied          |Drama          |Richter, Paul       |Arnold, Gertrud |Lang, Fritz         |79        |No    |Siegfried, The Nibelungenlied : a Richter, Paul and Arnold, Gertrud film's, directed by Lang, Fritz           |\n",
      "|1924|95    |Kriemhild's Revenge, The Nibelungenlied|Drama          |Loos, Theodor       |Sch�n, Margarete|Lang, Fritz         |74        |No    |Kriemhild's Revenge, The Nibelungenlied : a Loos, Theodor and Sch�n, Margarete film's, directed by Lang, Fritz|\n",
      "|1924|123   |Gosta Berling's Saga                   |Drama          |Hanson, Lars        |NULL            |Stiller, Mauritz    |63        |No    |NULL                                                                                                          |\n",
      "|1925|125   |Joyless Street                         |Drama          |Stuart, Henry       |Garbo, Greta    |Pabst, Georg Wilhelm|73        |No    |Joyless Street : a Stuart, Henry and Garbo, Greta film's, directed by Pabst, Georg Wilhelm                    |\n",
      "|1926|126   |Don Juan                               |Action         |Barrymore, John     |Astor, Mary     |Crosland, Alan      |55        |No    |Don Juan : a Barrymore, John and Astor, Mary film's, directed by Crosland, Alan                               |\n",
      "|1926|66    |Lodger (Story of the London Fog)       |Mystery        |Chesney, Arthur     |Ault, Marie     |Hitchcock, Alfred   |76        |No    |Lodger (Story of the London Fog) : a Chesney, Arthur and Ault, Marie film's, directed by Hitchcock, Alfred    |\n",
      "|1926|109   |Flesh & the Devil, The                 |Drama          |Gilbert, John       |Garbo, Greta    |Brown, Clarence     |72        |No    |Flesh & the Devil, The : a Gilbert, John and Garbo, Greta film's, directed by Brown, Clarence                 |\n",
      "|1926|139   |Metropolis                             |Science Fiction|Abel, Alfred        |NULL            |Lang, Fritz         |49        |No    |NULL                                                                                                          |\n",
      "|1927|60    |Easy Virtue                            |Mystery        |Dyall, Franklin     |Jeans, Isabel   |Hitchcock, Alfred   |45        |No    |Easy Virtue : a Dyall, Franklin and Jeans, Isabel film's, directed by Hitchcock, Alfred                       |\n",
      "|1927|62    |Drop Kick, The                         |Drama          |Barthelmess, Richard|Kent, Barbara   |Webb, Millard       |NULL      |No    |Drop Kick, The : a Barthelmess, Richard and Kent, Barbara film's, directed by Webb, Millard                   |\n",
      "|1927|78    |My Best Girl                           |Drama          |Rogers, Charles     |Pickford, Mary  |Taylor, Sam         |31        |No    |My Best Girl : a Rogers, Charles and Pickford, Mary film's, directed by Taylor, Sam                           |\n",
      "|1928|139   |Wings                                  |War            |Rogers, Buddy       |Bow, Clara      |Wellman, William    |44        |Yes   |Wings : a Rogers, Buddy and Bow, Clara film's, directed by Wellman, William                                   |\n",
      "|1928|90    |Woman of Affairs                       |Drama          |Gilbert, John       |Garbo, Greta    |Brown, Clarence     |83        |No    |Woman of Affairs : a Gilbert, John and Garbo, Greta film's, directed by Brown, Clarence                       |\n",
      "|1928|96    |Mysterious Lady, The                   |Drama          |Nagel, Conrad       |Garbo, Greta    |Niblo, Fred         |72        |No    |Mysterious Lady, The : a Nagel, Conrad and Garbo, Greta film's, directed by Niblo, Fred                       |\n",
      "|1928|148   |Tempest                                |Drama          |Barrymore, John     |Horn, Camilla   |Taylor, Sam         |33        |No    |Tempest : a Barrymore, John and Horn, Camilla film's, directed by Taylor, Sam                                 |\n",
      "|1928|130   |Spies                                  |Drama          |Klein-Rogge, Rudolf |NULL            |Lang, Fritz         |49        |No    |NULL                                                                                                          |\n",
      "|1929|84    |Blackmail                              |Mystery        |Longden, John       |Algood, Sara    |Hitchcock, Alfred   |2         |No    |Blackmail : a Longden, John and Algood, Sara film's, directed by Hitchcock, Alfred                            |\n",
      "|1929|100   |Wild Orchids                           |Drama          |Stone, Lewis        |Garbo, Greta    |Franklin, Sidney    |70        |No    |Wild Orchids : a Stone, Lewis and Garbo, Greta film's, directed by Franklin, Sidney                           |\n",
      "+----+------+---------------------------------------+---------------+--------------------+----------------+--------------------+----------+------+--------------------------------------------------------------------------------------------------------------+\n",
      "only showing top 20 rows\n",
      "\n"
     ]
    }
   ],
   "source": [
    "film_df_sorted = df_with_credits.orderBy(\"Year\", ascending=True)\n",
    "film_df_sorted.show(truncate=False)\n",
    "#film_df_sorted_popularity.write.option(\"header\", \"true\").csv(\"data/film_df_sorted.csv\")\n"
   ]
  },
  {
   "cell_type": "markdown",
   "metadata": {},
   "source": [
    "trier les films par popularité\n",
    "\n",
    "Du moins aux plus populaires"
   ]
  },
  {
   "cell_type": "code",
   "execution_count": 12,
   "metadata": {},
   "outputs": [
    {
     "name": "stdout",
     "output_type": "stream",
     "text": [
      "+----+------+---------------------------+--------+--------------------+-------------------+-------------------+----------+------+-------------------------------------------------------------------------------------------------+\n",
      "|Year|Length|Title                      |Subject |Actor               |Actress            |Director           |Popularity|Awards|Credits                                                                                          |\n",
      "+----+------+---------------------------+--------+--------------------+-------------------+-------------------+----------+------+-------------------------------------------------------------------------------------------------+\n",
      "|1953|61    |White Lightning            |NULL    |Clements, Stanley   |Blondell, Gloria   |Bernds, Edward     |NULL      |No    |White Lightning : a Clements, Stanley and Blondell, Gloria film's, directed by Bernds, Edward    |\n",
      "|1927|62    |Drop Kick, The             |Drama   |Barthelmess, Richard|Kent, Barbara      |Webb, Millard      |NULL      |No    |Drop Kick, The : a Barthelmess, Richard and Kent, Barbara film's, directed by Webb, Millard      |\n",
      "|1986|90    |Knights & Emeralds         |Drama   |Leadbitter, Bill    |Hills, Beverly     |Emes, Ian          |NULL      |No    |Knights & Emeralds : a Leadbitter, Bill and Hills, Beverly film's, directed by Emes, Ian         |\n",
      "|1923|57    |Desert Rider               |Western |Hoxie, Jack         |Nelson, Evelyn     |Bradbury, Robert N.|NULL      |No    |Desert Rider : a Hoxie, Jack and Nelson, Evelyn film's, directed by Bradbury, Robert N.          |\n",
      "|1954|30    |Bank on the Stars          |Drama   |Paar, Jack          |NULL               |Allen, Craig       |NULL      |No    |NULL                                                                                             |\n",
      "|1986|90    |Ninja, the Violent Sorcerer|Action  |NULL                |NULL               |Lambert, Bruce     |NULL      |No    |NULL                                                                                             |\n",
      "|1968|113   |Shalako                    |Westerns|Connery, Sean       |Bardot, Brigitte   |Dmytryk, Edward    |0         |No    |Shalako : a Connery, Sean and Bardot, Brigitte film's, directed by Dmytryk, Edward               |\n",
      "|1988|96    |Nightmare at Noon          |Action  |Hauser, Wings       |Beck, Kimberly     |Mastorakis, Nico   |0         |No    |Nightmare at Noon : a Hauser, Wings and Beck, Kimberly film's, directed by Mastorakis, Nico      |\n",
      "|1970|137   |Airport                    |Drama   |Lancaster, Burt     |Bisset, Jacqueline |Seaton, George     |0         |Yes   |Airport : a Lancaster, Burt and Bisset, Jacqueline film's, directed by Seaton, George            |\n",
      "|1980|91    |It's My Turn               |Comedy  |Douglas, Michael    |Clayburgh, Jill    |Weill, Claudia     |0         |No    |It's My Turn : a Douglas, Michael and Clayburgh, Jill film's, directed by Weill, Claudia         |\n",
      "|1930|92    |Anna Christie              |Drama   |Bickford, Charles   |Garbo, Greta       |Brown, Clarence    |0         |No    |Anna Christie : a Bickford, Charles and Garbo, Greta film's, directed by Brown, Clarence         |\n",
      "|1987|85    |Hot Child in the City      |Mystery |Prysirr, Geof       |Hendrix, Leah Ayres|Florea, John       |0         |No    |Hot Child in the City : a Prysirr, Geof and Hendrix, Leah Ayres film's, directed by Florea, John |\n",
      "|1992|89    |Flame & the Arrow, The     |Action  |Lancaster, Burt     |Mayo, Virginia     |NULL               |0         |No    |NULL                                                                                             |\n",
      "|1983|72    |After the Rehearsal        |Drama   |Josephson, Erland   |Olin, Lena         |Bergman, Ingmar    |0         |No    |After the Rehearsal : a Josephson, Erland and Olin, Lena film's, directed by Bergman, Ingmar     |\n",
      "|1976|128   |Shout at the Devil         |Action  |Marvin, Lee         |Parkins, Barbara   |Hunt, Peter R.     |0         |No    |Shout at the Devil : a Marvin, Lee and Parkins, Barbara film's, directed by Hunt, Peter R.       |\n",
      "|1990|89    |A Chorus of Disapproval    |Comedy  |Irons, Jeremy       |Pigg, Alexandra    |Winner, Michael    |0         |No    |A Chorus of Disapproval : a Irons, Jeremy and Pigg, Alexandra film's, directed by Winner, Michael|\n",
      "|1993|75    |Employee's Entrance        |Drama   |William, Warren     |Young, Loretta     |NULL               |0         |No    |NULL                                                                                             |\n",
      "|1953|120   |Tales of Tomorrow          |Horror  |Karloff, Boris      |NULL               |NULL               |0         |No    |NULL                                                                                             |\n",
      "|1958|100   |Indiscreet                 |Drama   |Grant, Cary         |Bergman, Ingrid    |Donen, Stanley     |1         |No    |Indiscreet : a Grant, Cary and Bergman, Ingrid film's, directed by Donen, Stanley                |\n",
      "|1971|98    |Anderson Tapes, The        |Mystery |Connery, Sean       |Cannon, Dyan       |Lumet, Sidney      |1         |No    |Anderson Tapes, The : a Connery, Sean and Cannon, Dyan film's, directed by Lumet, Sidney         |\n",
      "+----+------+---------------------------+--------+--------------------+-------------------+-------------------+----------+------+-------------------------------------------------------------------------------------------------+\n",
      "only showing top 20 rows\n",
      "\n"
     ]
    }
   ],
   "source": [
    "from pyspark.sql.functions import col\n",
    "film_df_sorted_popularity = df_with_credits.orderBy(col(\"Popularity\").asc())\n",
    "film_df_sorted_popularity.show(truncate=False)\n",
    "#film_df_sorted_popularity.write.option(\"header\", \"true\").csv(\"data/film_df_sorted_popularity.csv\")"
   ]
  },
  {
   "cell_type": "markdown",
   "metadata": {},
   "source": [
    "les films qui durent plus de 2 heures"
   ]
  },
  {
   "cell_type": "code",
   "execution_count": 13,
   "metadata": {},
   "outputs": [
    {
     "name": "stdout",
     "output_type": "stream",
     "text": [
      "+----+------+------------------------------+\n",
      "|Year|Length|Title                         |\n",
      "+----+------+------------------------------+\n",
      "|1979|122   |Cuba                          |\n",
      "|1983|140   |Octopussy                     |\n",
      "|1990|149   |Camille Claudel               |\n",
      "|1982|188   |Fanny and Alexander           |\n",
      "|1976|150   |Lindbergh Kidnapping Case, The|\n",
      "|1988|127   |Colors                        |\n",
      "|1967|130   |Casino Royale                 |\n",
      "|1979|121   |Ten                           |\n",
      "|1966|190   |Hawaii                        |\n",
      "|1966|125   |Torn Curtain                  |\n",
      "|1965|172   |Sound of Music, The           |\n",
      "|1984|140   |Tartuffe                      |\n",
      "|1992|286   |Tommy                         |\n",
      "|1926|126   |Don Juan                      |\n",
      "|1988|141   |Thunderball                   |\n",
      "|1974|128   |Murder on the Orient Express  |\n",
      "|1977|136   |Spy Who Loved Me, The         |\n",
      "|1980|124   |Elephant Man, The             |\n",
      "|1962|134   |A Very Private Affair         |\n",
      "|1989|126   |Batman                        |\n",
      "+----+------+------------------------------+\n",
      "only showing top 20 rows\n",
      "\n"
     ]
    }
   ],
   "source": [
    "\n",
    "film_df_2h= df_with_credits.select(\"Year\", \"Length\",\"Title\").filter(df_with_credits[\"Length\"] > 120)\n",
    "film_df_2h.show(truncate=False)\n",
    "#film_df_2h.write.option(\"header\", \"true\").csv(\"data/film_df_2h.csv\")"
   ]
  },
  {
   "cell_type": "markdown",
   "metadata": {},
   "source": [
    "filtrer les films selon le genre (2 genre de votre choix ⇒ 2 dataframes)"
   ]
  },
  {
   "cell_type": "code",
   "execution_count": 14,
   "metadata": {},
   "outputs": [
    {
     "name": "stdout",
     "output_type": "stream",
     "text": [
      "+----+------+--------------------+-------+------------------+--------------------+--------------------+----------+------+--------------------+\n",
      "|Year|Length|               Title|Subject|             Actor|             Actress|            Director|Popularity|Awards|             Credits|\n",
      "+----+------+--------------------+-------+------------------+--------------------+--------------------+----------+------+--------------------+\n",
      "|1979|   122|                Cuba| Action|     Connery, Sean|       Adams, Brooke|     Lester, Richard|         6|    No|Cuba : a Connery,...|\n",
      "|1983|   140|           Octopussy| Action|      Moore, Roger|         Adams, Maud|          Glen, John|        68|    No|Octopussy : a Moo...|\n",
      "|1984|   101|        Target Eagle| Action|    Connors, Chuck|         Adams, Maud|Loma, Jos� Antoni...|        14|    No|Target Eagle : a ...|\n",
      "|1981|   116|Raiders of the Lo...| Action|    Ford, Harrison|        Allen, Karen|   Spielberg, Steven|         8|    No|Raiders of the Lo...|\n",
      "|1991|   105|          Predator 2| Action|     Glover, Danny|Alonso, Maria Con...|    Hopkins, Stephen|        79|    No|Predator 2 : a Gl...|\n",
      "|1958|   104|Barbarian & the G...| Action|       Wayne, John|          Ando, Eiko|        Huston, John|        52|    No|Barbarian & the G...|\n",
      "|1962|  NULL|              Dr. No| Action|     Connery, Sean|     Andress, Ursula|      Young, Terence|         7|    No|Dr. No : a Conner...|\n",
      "|1992|   117|       Patriot Games| Action|    Ford, Harrison|        Archer, Anne|      Noyce, Phillip|        28|    No|Patriot Games : a...|\n",
      "|1959|    91|Killers of Kilima...| Action|    Taylor, Robert|     Aslan, Gregoire|     Thorpe, Richard|        11|    No|Killers of Kilima...|\n",
      "|1926|   126|            Don Juan| Action|   Barrymore, John|         Astor, Mary|      Crosland, Alan|        55|    No|Don Juan : a Barr...|\n",
      "|1988|   141|         Thunderball| Action|     Connery, Sean|     Auger, Claudine|     Young, Terrence|         8|    No|Thunderball : a C...|\n",
      "|1977|   136|Spy Who Loved Me,...| Action|      Moore, Roger|       Bach, Barbara|      Gilbert, Lewis|        27|    No|Spy Who Loved Me,...|\n",
      "|1988|   100|               Storm| Action|      Palfy, David|Bahtia, Stacy Chr...|      Winning, David|        61|    No|Storm : a Palfy, ...|\n",
      "|1989|   103|          Miami Cops| Action|Roundtree, Richard|         Baker, Dawn|         Bradley, Al|        40|    No|Miami Cops : a Ro...|\n",
      "|1967|   100|A Coeur Joie, (He...| Action| Terzieff, Laurent|    Bardot, Brigitte|  Bourguignon, Serge|        54|    No|A Coeur Joie, (He...|\n",
      "|1987|   104|           Lionheart| Action|      Stoltz, Eric|  Barrymore, Deborah|Schaffner, Frankl...|         9|    No|Lionheart : a Sto...|\n",
      "|1989|   126|              Batman| Action|   Nicholson, Jack|       Basinger, Kim|         Burton, Tim|        14|    No|Batman : a Nichol...|\n",
      "|1982|   101|         Mother Lode| Action|  Heston, Charlton|       Basinger, Kim|    Heston, Charlton|        40|    No|Mother Lode : a H...|\n",
      "|1983|   134|Never Say Never A...| Action|     Connery, Sean|       Basinger, Kim|     Kershner, Irvin|         8|    No|Never Say Never A...|\n",
      "|1988|    96|   Nightmare at Noon| Action|     Hauser, Wings|      Beck, Kimberly|    Mastorakis, Nico|         0|    No|Nightmare at Noon...|\n",
      "+----+------+--------------------+-------+------------------+--------------------+--------------------+----------+------+--------------------+\n",
      "only showing top 20 rows\n",
      "\n"
     ]
    }
   ],
   "source": [
    "film_df_action = df_with_credits.filter(df_with_credits[\"Subject\"] == \"Action\")\n",
    "film_df_action.show()\n",
    "#film_df_action.write.option(\"header\", \"true\").csv(\"data/film_df_action.csv\")"
   ]
  },
  {
   "cell_type": "code",
   "execution_count": 15,
   "metadata": {},
   "outputs": [
    {
     "name": "stdout",
     "output_type": "stream",
     "text": [
      "+----+------+--------------------+-------+--------------------+--------------------+--------------------+----------+------+--------------------+\n",
      "|Year|Length|               Title|Subject|               Actor|             Actress|            Director|Popularity|Awards|             Credits|\n",
      "+----+------+--------------------+-------+--------------------+--------------------+--------------------+----------+------+--------------------+\n",
      "|1978|    94|      Days of Heaven|  Drama|       Gere, Richard|       Adams, Brooke|    Malick, Terrence|        14|    No|Days of Heaven : ...|\n",
      "|1989|    99|American Angels: ...|  Drama|   Bergen, Robert D.|        Adams, Trudy|  Sebastian, Beverly|        28|    No|American Angels: ...|\n",
      "|1985|   104|              Subway|  Drama|Lambert, Christopher|    Adjani, Isabelle|         Besson, Luc|         6|    No|Subway : a Lamber...|\n",
      "|1990|   149|     Camille Claudel|  Drama|   Depardieu, G�rard|    Adjani, Isabelle|      Nuytten, Bruno|        32|    No|Camille Claudel :...|\n",
      "|1982|   188| Fanny and Alexander|  Drama|     Ahlstedt, B�rje| Adolphson, Kristina|     Bergman, Ingmar|        81|   Yes|Fanny and Alexand...|\n",
      "|1982|   117|Tragedy of a Ridi...|  Drama|       Tognazzi, Ugo|        Aimee, Anouk|Bertolucci, Bernardo|        17|    No|Tragedy of a Ridi...|\n",
      "|1966|   103|     A Man & a Woman|  Drama|Trintignant, Jean...|        Aimee, Anouk|     Lelouch, Claude|        46|   Yes|A Man & a Woman :...|\n",
      "|1986|   112|A Man & a Woman: ...|  Drama|Trintignant, Jean...|        Aimee, Anouk|     Lelouch, Claude|        49|    No|A Man & a Woman: ...|\n",
      "|1966|   103|Un Hombre y una M...|  Drama|Trintignant, Jean...|        Aimee, Anouk|     Lelouch, Claude|         6|   Yes|Un Hombre y una M...|\n",
      "|1985|   112| Official Story, The|  Drama|     Alterio, Hector|     Aleandro, Norma|        Puenzo, Luiz|        39|   Yes|Official Story, T...|\n",
      "|1976|   150|Lindbergh Kidnapp...|  Drama|    Hopkins, Anthony|   Alexander, Denise|         Kulik, Buzz|        51|    No|Lindbergh Kidnapp...|\n",
      "|1988|   110|Tucker: The Man &...|  Drama|       Bridges, Jeff|         Allen, Joan|Coppola, Francis ...|        68|    No|Tucker: The Man &...|\n",
      "|1988|   127|              Colors|  Drama|          Penn, Sean|Alonso, Maria Con...|      Hopper, Dennis|        23|    No|Colors : a Penn, ...|\n",
      "|1990|    97|            Zandalee|  Drama|       Cage, Nicolas|     Anderson, Erika|      Pillsbury, Sam|        80|    No|Zandalee : a Cage...|\n",
      "|1988|   108|     Miles from Home|  Drama|     Anderson, Kevin|        Anderson, Jo|        Sinise, Gary|        53|    No|Miles from Home :...|\n",
      "|1979|   110|             Quintet|  Drama|        Newman, Paul|     Andersson, Bibi|      Altman, Robert|        19|    No|Quintet : a Newma...|\n",
      "|1960|    90|    Devil's Eye, The|  Drama|         Kulle, Jarl|     Andersson, Bibi|     Bergman, Ingmar|        20|    No|Devil's Eye, The ...|\n",
      "|1957|    91|   Wild Strawberries|  Drama|    Sj�str�m, Victor|     Andersson, Bibi|     Bergman, Ingmar|        42|   Yes|Wild Strawberries...|\n",
      "|1956|    96|   Seventh Seal, The|  Drama|      Sydow, Max von|     Andersson, Bibi|     Bergman, Ingmar|        62|    No|Seventh Seal, The...|\n",
      "|1992|    90|           Germicide|  Drama|         Taylor, Rod|     Andersson, Bibi|                NULL|        36|    No|                NULL|\n",
      "+----+------+--------------------+-------+--------------------+--------------------+--------------------+----------+------+--------------------+\n",
      "only showing top 20 rows\n",
      "\n"
     ]
    }
   ],
   "source": [
    "film_df_drama= df_with_credits.filter(df_with_credits[\"Subject\"] == \"Drama\")\n",
    "film_df_drama.show()\n",
    "#film_df_drama.write.option(\"header\", \"true\").csv(\"data/film_df_drama.csv\")"
   ]
  },
  {
   "cell_type": "markdown",
   "metadata": {},
   "source": [
    "l'acteur ayant tourné le plus de films"
   ]
  },
  {
   "cell_type": "code",
   "execution_count": 16,
   "metadata": {},
   "outputs": [
    {
     "name": "stdout",
     "output_type": "stream",
     "text": [
      "+-----------+---------+\n",
      "|      Actor|num_films|\n",
      "+-----------+---------+\n",
      "|Wayne, John|       81|\n",
      "+-----------+---------+\n",
      "only showing top 1 row\n",
      "\n"
     ]
    }
   ],
   "source": [
    "actor_filted = df_with_credits.groupBy(\"Actor\").agg(F.count(\"Title\").alias(\"num_films\"))\n",
    "actor_film_nb1= actor_filted.orderBy(\"num_films\", ascending=False)\n",
    "\n",
    "actor_film_nb1.show(1)"
   ]
  },
  {
   "cell_type": "markdown",
   "metadata": {},
   "source": [
    "le directeur ayant remporté le plus de récompenses"
   ]
  },
  {
   "cell_type": "code",
   "execution_count": 17,
   "metadata": {},
   "outputs": [
    {
     "name": "stdout",
     "output_type": "stream",
     "text": [
      "+---------------+------------+\n",
      "|       Director|total_awards|\n",
      "+---------------+------------+\n",
      "|Bergman, Ingmar|           8|\n",
      "+---------------+------------+\n",
      "only showing top 1 row\n",
      "\n"
     ]
    }
   ],
   "source": [
    "awards_filted = df_with_credits.filter(col(\"Awards\") == \"Yes\")\n",
    "df_grouped = awards_filted.groupBy(\"Director\").agg(\n",
    "    F.count(\"Awards\").alias(\"total_awards\") \n",
    ")\n",
    "best_director = df_grouped.orderBy(\"total_awards\", ascending=False)\n",
    "\n",
    "best_director.show(1) "
   ]
  },
  {
   "cell_type": "markdown",
   "metadata": {},
   "source": [
    "le film le plus populaire ayant remporté un prix"
   ]
  },
  {
   "cell_type": "code",
   "execution_count": 18,
   "metadata": {},
   "outputs": [
    {
     "name": "stdout",
     "output_type": "stream",
     "text": [
      "+----+------+-------------+-------+---------------+-------------+---------------+----------+------+--------------------+\n",
      "|Year|Length|        Title|Subject|          Actor|      Actress|       Director|Popularity|Awards|             Credits|\n",
      "+----+------+-------------+-------+---------------+-------------+---------------+----------+------+--------------------+\n",
      "|1985|   161|Out of Africa|  Drama|Redford, Robert|Streep, Meryl|Pollack, Sydney|        88|   Yes|Out of Africa : a...|\n",
      "+----+------+-------------+-------+---------------+-------------+---------------+----------+------+--------------------+\n",
      "only showing top 1 row\n",
      "\n"
     ]
    }
   ],
   "source": [
    "film_awars_filted = df_with_credits.filter(col(\"Awards\") == \"Yes\") \n",
    "film_best_popularity_awards = film_awars_filted.orderBy(\"Popularity\", ascending=False)\n",
    "film_best_popularity_awards.show(1) "
   ]
  },
  {
   "cell_type": "markdown",
   "metadata": {},
   "source": [
    "\n",
    "- le genre de films qui n'a obtenue aucune récompense"
   ]
  },
  {
   "cell_type": "code",
   "execution_count": null,
   "metadata": {},
   "outputs": [
    {
     "name": "stdout",
     "output_type": "stream",
     "text": [
      "+---------------+-----+\n",
      "|Subject        |count|\n",
      "+---------------+-----+\n",
      "|Crime          |1    |\n",
      "|Romance        |1    |\n",
      "|Adventure      |3    |\n",
      "|NULL           |2    |\n",
      "|Drama          |542  |\n",
      "|War            |32   |\n",
      "|Fantasy        |1    |\n",
      "|Mystery        |105  |\n",
      "|Music          |39   |\n",
      "|Science Fiction|34   |\n",
      "|Horror         |55   |\n",
      "|Short          |1    |\n",
      "|Western        |115  |\n",
      "|Comedy         |354  |\n",
      "|Action         |205  |\n",
      "|Westerns       |6    |\n",
      "+---------------+-----+\n",
      "\n"
     ]
    }
   ],
   "source": [
    "from pyspark.sql import functions as F\n",
    "\n",
    "# Filtrer les films n'ayant pas reçu de récompenses\n",
    "df_no_awards = df_with_credits.filter(col(\"Awards\") == \"No\")\n",
    "\n",
    "# Grouper par genre et compter les films n'ayant pas reçu de récompenses\n",
    "df_genres_no_awards = df_no_awards.groupBy(\"Subject\").count()\n",
    "\n",
    "# Afficher les résultats\n",
    "df_genres_no_awards.show(truncate=False)\n"
   ]
  },
  {
   "cell_type": "markdown",
   "metadata": {},
   "source": [
    "Partie 2"
   ]
  },
  {
   "cell_type": "code",
   "execution_count": null,
   "metadata": {},
   "outputs": [
    {
     "name": "stdout",
     "output_type": "stream",
     "text": [
      "+-------------------------------+-------+----------+----------+\n",
      "|Title                          |Subject|Popularity|Classement|\n",
      "+-------------------------------+-------+----------+----------+\n",
      "|Wild Times                     |NULL   |75        |1         |\n",
      "|Lionheart                      |Action |9         |1         |\n",
      "|Tango & Cash                   |Action |9         |1         |\n",
      "|Boxing Babes                   |Action |9         |1         |\n",
      "|Dead-Bang                      |Action |9         |1         |\n",
      "|Destroyer                      |Action |87        |5         |\n",
      "|Choice of Arms                 |Action |87        |5         |\n",
      "|Superman, The Movie            |Action |87        |5         |\n",
      "|Star Trek V: The Final Frontier|Action |87        |5         |\n",
      "|B. A. D. Cats                  |Action |87        |5         |\n",
      "|Russkies                       |Action |87        |5         |\n",
      "|For Your Eyes Only             |Action |86        |11        |\n",
      "|Prince & the Pauper, The       |Action |86        |11        |\n",
      "|That Lucky Touch               |Action |85        |13        |\n",
      "|Legend of the Lost             |Action |84        |14        |\n",
      "|Catamount Killing, The         |Action |84        |14        |\n",
      "|Big Bad John                   |Action |84        |14        |\n",
      "|Rape of the Sabines, The       |Action |83        |17        |\n",
      "|Romancing the Stone            |Action |83        |17        |\n",
      "|El Rublo de las Dos Caras      |Action |83        |17        |\n",
      "+-------------------------------+-------+----------+----------+\n",
      "only showing top 20 rows\n",
      "\n"
     ]
    }
   ],
   "source": [
    "from pyspark.sql import functions as F\n",
    "from pyspark.sql.window import Window\n",
    "\n",
    "df_genres_popularity = df_with_credits.select(\"Title\", \"Subject\", \"Popularity\").filter(col(\"Popularity\").isNotNull())\n",
    "window_spec = Window.partitionBy(\"Subject\").orderBy(F.col(\"Popularity\").desc())\n",
    "\n",
    "#Appliquons la fonction rank()\n",
    "df_genres_popularity_ranked = df_genres_popularity.withColumn(\"Classement\", F.rank().over(window_spec))\n",
    "\n",
    "df_genres_popularity_ranked.show(truncate=False)\n"
   ]
  },
  {
   "cell_type": "markdown",
   "metadata": {},
   "source": [
    "nombre de films de chaque directeur"
   ]
  },
  {
   "cell_type": "code",
   "execution_count": 21,
   "metadata": {},
   "outputs": [
    {
     "name": "stdout",
     "output_type": "stream",
     "text": [
      "+-------------------+-----+\n",
      "|Director           |count|\n",
      "+-------------------+-----+\n",
      "|Rossellini, Roberto|4    |\n",
      "|Totten, Robert     |1    |\n",
      "|Dearden, Basil     |2    |\n",
      "|Paris, Jerry       |1    |\n",
      "|Mizrahi, Moshe     |1    |\n",
      "|Zwick, Edward      |1    |\n",
      "|Jackson, Mick      |1    |\n",
      "|Keach, James       |1    |\n",
      "|Altman, Robert     |2    |\n",
      "|Fitzmaurice, George|1    |\n",
      "|Logan, Joshua      |3    |\n",
      "|Ward, David S.     |1    |\n",
      "|Arnold, Newt       |1    |\n",
      "|Szwarc, Jeannot    |1    |\n",
      "|Glen, John         |3    |\n",
      "|Gilbert, Lewis     |4    |\n",
      "|Litvak, Anatole    |2    |\n",
      "|Feferman, Linda    |1    |\n",
      "|Comeau, Alain      |1    |\n",
      "|Brooks, Richard    |2    |\n",
      "+-------------------+-----+\n",
      "only showing top 20 rows\n",
      "\n"
     ]
    }
   ],
   "source": [
    "from pyspark.sql import functions as F\n",
    "\n",
    "df_director_films_count = df_with_credits.select(\"Director\", \"Title\")\n",
    "df_director_films_count = df_director_films_count.groupBy(\"Director\").count()\n",
    "df_director_films_count.show(truncate=False)\n"
   ]
  },
  {
   "cell_type": "markdown",
   "metadata": {},
   "source": [
    "créer une UDF pour convertir le “Title” en majuscule"
   ]
  },
  {
   "cell_type": "code",
   "execution_count": null,
   "metadata": {},
   "outputs": [
    {
     "name": "stdout",
     "output_type": "stream",
     "text": [
      "+----+------+--------------------------------------+-------+-----------------------+-------------------+------------------------+----------+------+--------------------------------------------------------------------------------------------------------------------+--------------------------------------+\n",
      "|Year|Length|Title                                 |Subject|Actor                  |Actress            |Director                |Popularity|Awards|Credits                                                                                                             |Title_Maj                             |\n",
      "+----+------+--------------------------------------+-------+-----------------------+-------------------+------------------------+----------+------+--------------------------------------------------------------------------------------------------------------------+--------------------------------------+\n",
      "|1990|111   |Tie Me Up! Tie Me Down!               |Comedy |Banderas, Antonio      |Abril, Victoria    |Almod�var, Pedro        |68        |No    |Tie Me Up! Tie Me Down! : a Banderas, Antonio and Abril, Victoria film's, directed by Almod�var, Pedro              |TIE ME UP! TIE ME DOWN!               |\n",
      "|1991|113   |High Heels                            |Comedy |Bos�, Miguel           |Abril, Victoria    |Almod�var, Pedro        |68        |No    |High Heels : a Bos�, Miguel and Abril, Victoria film's, directed by Almod�var, Pedro                                |HIGH HEELS                            |\n",
      "|1983|104   |Dead Zone, The                        |Horror |Walken, Christopher    |Adams, Brooke      |Cronenberg, David       |79        |No    |Dead Zone, The : a Walken, Christopher and Adams, Brooke film's, directed by Cronenberg, David                      |DEAD ZONE, THE                        |\n",
      "|1979|122   |Cuba                                  |Action |Connery, Sean          |Adams, Brooke      |Lester, Richard         |6         |No    |Cuba : a Connery, Sean and Adams, Brooke film's, directed by Lester, Richard                                        |CUBA                                  |\n",
      "|1978|94    |Days of Heaven                        |Drama  |Gere, Richard          |Adams, Brooke      |Malick, Terrence        |14        |No    |Days of Heaven : a Gere, Richard and Adams, Brooke film's, directed by Malick, Terrence                             |DAYS OF HEAVEN                        |\n",
      "|1983|140   |Octopussy                             |Action |Moore, Roger           |Adams, Maud        |Glen, John              |68        |No    |Octopussy : a Moore, Roger and Adams, Maud film's, directed by Glen, John                                           |OCTOPUSSY                             |\n",
      "|1984|101   |Target Eagle                          |Action |Connors, Chuck         |Adams, Maud        |Loma, Jos� Antonio de la|14        |No    |Target Eagle : a Connors, Chuck and Adams, Maud film's, directed by Loma, Jos� Antonio de la                        |TARGET EAGLE                          |\n",
      "|1989|99    |American Angels: Baptism of Blood, The|Drama  |Bergen, Robert D.      |Adams, Trudy       |Sebastian, Beverly      |28        |No    |American Angels: Baptism of Blood, The : a Bergen, Robert D. and Adams, Trudy film's, directed by Sebastian, Beverly|AMERICAN ANGELS: BAPTISM OF BLOOD, THE|\n",
      "|1985|104   |Subway                                |Drama  |Lambert, Christopher   |Adjani, Isabelle   |Besson, Luc             |6         |No    |Subway : a Lambert, Christopher and Adjani, Isabelle film's, directed by Besson, Luc                                |SUBWAY                                |\n",
      "|1990|149   |Camille Claudel                       |Drama  |Depardieu, G�rard      |Adjani, Isabelle   |Nuytten, Bruno          |32        |No    |Camille Claudel : a Depardieu, G�rard and Adjani, Isabelle film's, directed by Nuytten, Bruno                       |CAMILLE CLAUDEL                       |\n",
      "|1982|188   |Fanny and Alexander                   |Drama  |Ahlstedt, B�rje        |Adolphson, Kristina|Bergman, Ingmar         |81        |Yes   |Fanny and Alexander : a Ahlstedt, B�rje and Adolphson, Kristina film's, directed by Bergman, Ingmar                 |FANNY AND ALEXANDER                   |\n",
      "|1982|117   |Tragedy of a Ridiculous Man           |Drama  |Tognazzi, Ugo          |Aimee, Anouk       |Bertolucci, Bernardo    |17        |No    |Tragedy of a Ridiculous Man : a Tognazzi, Ugo and Aimee, Anouk film's, directed by Bertolucci, Bernardo             |TRAGEDY OF A RIDICULOUS MAN           |\n",
      "|1966|103   |A Man & a Woman                       |Drama  |Trintignant, Jean-Louis|Aimee, Anouk       |Lelouch, Claude         |46        |Yes   |A Man & a Woman : a Trintignant, Jean-Louis and Aimee, Anouk film's, directed by Lelouch, Claude                    |A MAN & A WOMAN                       |\n",
      "|1986|112   |A Man & a Woman: Twenty Years Later   |Drama  |Trintignant, Jean-Louis|Aimee, Anouk       |Lelouch, Claude         |49        |No    |A Man & a Woman: Twenty Years Later : a Trintignant, Jean-Louis and Aimee, Anouk film's, directed by Lelouch, Claude|A MAN & A WOMAN: TWENTY YEARS LATER   |\n",
      "|1966|103   |Un Hombre y una Mujer                 |Drama  |Trintignant, Jean-Louis|Aimee, Anouk       |Lelouch, Claude         |6         |Yes   |Un Hombre y una Mujer : a Trintignant, Jean-Louis and Aimee, Anouk film's, directed by Lelouch, Claude              |UN HOMBRE Y UNA MUJER                 |\n",
      "|1985|112   |Official Story, The                   |Drama  |Alterio, Hector        |Aleandro, Norma    |Puenzo, Luiz            |39        |Yes   |Official Story, The : a Alterio, Hector and Aleandro, Norma film's, directed by Puenzo, Luiz                        |OFFICIAL STORY, THE                   |\n",
      "|1976|150   |Lindbergh Kidnapping Case, The        |Drama  |Hopkins, Anthony       |Alexander, Denise  |Kulik, Buzz             |51        |No    |Lindbergh Kidnapping Case, The : a Hopkins, Anthony and Alexander, Denise film's, directed by Kulik, Buzz           |LINDBERGH KIDNAPPING CASE, THE        |\n",
      "|1929|84    |Blackmail                             |Mystery|Longden, John          |Algood, Sara       |Hitchcock, Alfred       |2         |No    |Blackmail : a Longden, John and Algood, Sara film's, directed by Hitchcock, Alfred                                  |BLACKMAIL                             |\n",
      "|1963|109   |Donovan's Reef                        |Comedy |Wayne, John            |Allen, Elizabeth   |Ford, John              |62        |No    |Donovan's Reef : a Wayne, John and Allen, Elizabeth film's, directed by Ford, John                                  |DONOVAN'S REEF                        |\n",
      "|1988|110   |Tucker: The Man & His Dream           |Drama  |Bridges, Jeff          |Allen, Joan        |Coppola, Francis Ford   |68        |No    |Tucker: The Man & His Dream : a Bridges, Jeff and Allen, Joan film's, directed by Coppola, Francis Ford             |TUCKER: THE MAN & HIS DREAM           |\n",
      "+----+------+--------------------------------------+-------+-----------------------+-------------------+------------------------+----------+------+--------------------------------------------------------------------------------------------------------------------+--------------------------------------+\n",
      "only showing top 20 rows\n",
      "\n"
     ]
    }
   ],
   "source": [
    "from pyspark.sql.functions import udf\n",
    "from pyspark.sql.types import StringType\n",
    "\n",
    "# Définissons la fonction pour convertir le titre en majuscule\n",
    "def to_case(Title):\n",
    "    if Title is not None:\n",
    "        return Title.upper()  # Conversion en majuscule\n",
    "    return None  # Si le titre est None, on retourne None\n",
    " \n",
    "# Enregistrement de Sla fonction en tant qu'UDF\n",
    "to_case_udf = udf(to_case, StringType())\n",
    "\n",
    "#  Appliquons la UDF sur la colonne \"Title\" pour créer une nouvelle colonne \"Title_uppercase\"\n",
    "df_with_case_title = df_with_credits.withColumn(\"Title_Maj\", to_case_udf(\"Title\"))\n",
    "\n",
    "\n",
    "df_with_case_title.show(truncate=False)\n"
   ]
  },
  {
   "cell_type": "markdown",
   "metadata": {},
   "source": [
    "Autre methode plus rapide"
   ]
  },
  {
   "cell_type": "code",
   "execution_count": null,
   "metadata": {},
   "outputs": [
    {
     "name": "stdout",
     "output_type": "stream",
     "text": [
      "+--------------------------------------+--------------------------------------+\n",
      "|Title                                 |Title_uppercase                       |\n",
      "+--------------------------------------+--------------------------------------+\n",
      "|Tie Me Up! Tie Me Down!               |TIE ME UP! TIE ME DOWN!               |\n",
      "|High Heels                            |HIGH HEELS                            |\n",
      "|Dead Zone, The                        |DEAD ZONE, THE                        |\n",
      "|Cuba                                  |CUBA                                  |\n",
      "|Days of Heaven                        |DAYS OF HEAVEN                        |\n",
      "|Octopussy                             |OCTOPUSSY                             |\n",
      "|Target Eagle                          |TARGET EAGLE                          |\n",
      "|American Angels: Baptism of Blood, The|AMERICAN ANGELS: BAPTISM OF BLOOD, THE|\n",
      "|Subway                                |SUBWAY                                |\n",
      "|Camille Claudel                       |CAMILLE CLAUDEL                       |\n",
      "|Fanny and Alexander                   |FANNY AND ALEXANDER                   |\n",
      "|Tragedy of a Ridiculous Man           |TRAGEDY OF A RIDICULOUS MAN           |\n",
      "|A Man & a Woman                       |A MAN & A WOMAN                       |\n",
      "|A Man & a Woman: Twenty Years Later   |A MAN & A WOMAN: TWENTY YEARS LATER   |\n",
      "|Un Hombre y una Mujer                 |UN HOMBRE Y UNA MUJER                 |\n",
      "|Official Story, The                   |OFFICIAL STORY, THE                   |\n",
      "|Lindbergh Kidnapping Case, The        |LINDBERGH KIDNAPPING CASE, THE        |\n",
      "|Blackmail                             |BLACKMAIL                             |\n",
      "|Donovan's Reef                        |DONOVAN'S REEF                        |\n",
      "|Tucker: The Man & His Dream           |TUCKER: THE MAN & HIS DREAM           |\n",
      "+--------------------------------------+--------------------------------------+\n",
      "only showing top 20 rows\n",
      "\n"
     ]
    }
   ],
   "source": [
    "from pyspark.sql.functions import upper\n",
    "\n",
    "# Utilisation de la fonction native upper() pour convertir \"Title\" en majuscule\n",
    "df_with_uppercase_title = df_with_credits.withColumn(\"Title_uppercase\", upper(\"Title\"))\n",
    "\n",
    "# Affichage du résultat\n",
    "df_with_uppercase_title.select(\"Title\", \"Title_uppercase\").show(truncate=False)\n"
   ]
  }
 ],
 "metadata": {
  "kernelspec": {
   "display_name": "Python 3",
   "language": "python",
   "name": "python3"
  },
  "language_info": {
   "codemirror_mode": {
    "name": "ipython",
    "version": 3
   },
   "file_extension": ".py",
   "mimetype": "text/x-python",
   "name": "python",
   "nbconvert_exporter": "python",
   "pygments_lexer": "ipython3",
   "version": "3.10.11"
  }
 },
 "nbformat": 4,
 "nbformat_minor": 2
}
